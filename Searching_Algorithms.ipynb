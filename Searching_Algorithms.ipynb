{
  "nbformat": 4,
  "nbformat_minor": 0,
  "metadata": {
    "colab": {
      "provenance": [],
      "authorship_tag": "ABX9TyPqgfpnU4x6yRPnH9rIJTcq",
      "include_colab_link": true
    },
    "kernelspec": {
      "name": "python3",
      "display_name": "Python 3"
    },
    "language_info": {
      "name": "python"
    }
  },
  "cells": [
    {
      "cell_type": "markdown",
      "metadata": {
        "id": "view-in-github",
        "colab_type": "text"
      },
      "source": [
        "<a href=\"https://colab.research.google.com/github/Hazabaijan/Personal_Projects/blob/main/Searching_Algorithms.ipynb\" target=\"_parent\"><img src=\"https://colab.research.google.com/assets/colab-badge.svg\" alt=\"Open In Colab\"/></a>"
      ]
    },
    {
      "cell_type": "code",
      "execution_count": 36,
      "metadata": {
        "colab": {
          "base_uri": "https://localhost:8080/"
        },
        "id": "u78l7U1UIA8v",
        "outputId": "72c4ea6b-5fad-4f9a-8b5a-e50892abbf1b"
      },
      "outputs": [
        {
          "output_type": "stream",
          "name": "stdout",
          "text": [
            "-1\n"
          ]
        }
      ],
      "source": [
        "#SEQUENTIAL SEARCH\n",
        "def sequential_search(l, x):\n",
        "  for i in range(0,len(l)):\n",
        "    if x == l[i]:\n",
        "      return i\n",
        "  return -1\n",
        "\n",
        "\n",
        "l = [3, 4, 10, 80, 100]\n",
        "x = 4\n",
        "print(sequential_search(l, x))"
      ]
    },
    {
      "cell_type": "code",
      "source": [
        "#BINARY SEARCH\n",
        "def binary_search(l, low, high, x):\n",
        "  if high >= low:\n",
        "    mid = (high + low) // 2\n",
        "    if l[mid] == x:\n",
        "      return mid\n",
        "    elif l[mid] > x:\n",
        "      return binary_search(l, low, mid - 1, x)\n",
        "    else:\n",
        "      return binary_search(l, mid + 1, high, x)\n",
        "  else:\n",
        "    return -1\n",
        "\n",
        "\n",
        "l = [3, 4, 10, 80, 100]\n",
        "x = 4\n",
        "print(binary_search(l, 0, len(l)-1, x))"
      ],
      "metadata": {
        "colab": {
          "base_uri": "https://localhost:8080/"
        },
        "id": "U7QqXs8mc00g",
        "outputId": "8aff5a5e-7a4e-46d0-cf59-bf5d2aa17b70"
      },
      "execution_count": 37,
      "outputs": [
        {
          "output_type": "stream",
          "name": "stdout",
          "text": [
            "1\n"
          ]
        }
      ]
    }
  ]
}