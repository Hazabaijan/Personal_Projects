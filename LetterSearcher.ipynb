{
  "nbformat": 4,
  "nbformat_minor": 0,
  "metadata": {
    "colab": {
      "provenance": [],
      "authorship_tag": "ABX9TyNIf318TolD/2oRLZ/3+t2V",
      "include_colab_link": true
    },
    "kernelspec": {
      "name": "python3",
      "display_name": "Python 3"
    },
    "language_info": {
      "name": "python"
    }
  },
  "cells": [
    {
      "cell_type": "markdown",
      "metadata": {
        "id": "view-in-github",
        "colab_type": "text"
      },
      "source": [
        "<a href=\"https://colab.research.google.com/github/Hazabaijan/Personal_Projects/blob/main/LetterSearcher.ipynb\" target=\"_parent\"><img src=\"https://colab.research.google.com/assets/colab-badge.svg\" alt=\"Open In Colab\"/></a>"
      ]
    },
    {
      "cell_type": "code",
      "execution_count": null,
      "metadata": {
        "colab": {
          "base_uri": "https://localhost:8080/"
        },
        "id": "fg2ccG7CuXhx",
        "outputId": "f8142855-baaf-4d60-e670-e0820b5f742c"
      },
      "outputs": [
        {
          "output_type": "stream",
          "name": "stdout",
          "text": [
            "The letter q appears 1 times in the word The Quick Brown Fox Jumps Over the Lazy Dog\n"
          ]
        }
      ],
      "source": [
        "#THE SENTENCE TO SEARCH\n",
        "string = \"The Quick Brown Fox Jumps Over the Lazy Dog\"\n",
        "\n",
        "#THE CHARACTER TO SEARCH\n",
        "char = \"q\"\n",
        "n = 0\n",
        "\n",
        "for i in string.lower():\n",
        "  if char == i:\n",
        "    n = n + 1\n",
        "print(\"The letter \" + str(char) + \" appears \" + str(n) + \" times in the word \" + string)"
      ]
    }
  ]
}