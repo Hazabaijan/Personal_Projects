{
  "nbformat": 4,
  "nbformat_minor": 0,
  "metadata": {
    "colab": {
      "provenance": [],
      "authorship_tag": "ABX9TyOP5ELNYb4m108CRaO1v/0P",
      "include_colab_link": true
    },
    "kernelspec": {
      "name": "python3",
      "display_name": "Python 3"
    },
    "language_info": {
      "name": "python"
    }
  },
  "cells": [
    {
      "cell_type": "markdown",
      "metadata": {
        "id": "view-in-github",
        "colab_type": "text"
      },
      "source": [
        "<a href=\"https://colab.research.google.com/github/Hazabaijan/Personal_Projects/blob/main/Sorting_Algorithms.ipynb\" target=\"_parent\"><img src=\"https://colab.research.google.com/assets/colab-badge.svg\" alt=\"Open In Colab\"/></a>"
      ]
    },
    {
      "cell_type": "code",
      "source": [
        "#BUBBLESORT\n",
        "def bubblesort(l):\n",
        "  for i in range(0,len(l)):\n",
        "    for j in range(0,len(l) - 1):\n",
        "      if l[j]>l[j+1]:\n",
        "        temp=l[j]\n",
        "        l[j]=l[j+1]\n",
        "        l[j+1]=temp\n",
        "\n",
        "\n",
        "l = [1, 10, 23, 2, 7, 5]\n",
        "bubblesort(l)\n",
        "print(l)"
      ],
      "metadata": {
        "colab": {
          "base_uri": "https://localhost:8080/"
        },
        "id": "FhJg2c8_GRvL",
        "outputId": "8cc6632d-26aa-4275-e3ef-a767367f38c8"
      },
      "execution_count": 1,
      "outputs": [
        {
          "output_type": "stream",
          "name": "stdout",
          "text": [
            "[1, 2, 5, 7, 10, 23]\n"
          ]
        }
      ]
    },
    {
      "cell_type": "code",
      "source": [
        "#INSERTION SORT\n",
        "def insertionsort(l):\n",
        "   for i in range(0,len(l)):\n",
        "     j = i\n",
        "     while (j > 0 and l[j-1] > l[j]):\n",
        "        temp = l[j]\n",
        "        l[j] = l[j-1]\n",
        "        l[j-1] = temp\n",
        "        j = j - 1\n",
        "\n",
        "l = [1, 10, 23, 2, 7, 5]\n",
        "insertionsort(l)\n",
        "print(l)"
      ],
      "metadata": {
        "colab": {
          "base_uri": "https://localhost:8080/"
        },
        "id": "E7IA2zDZRh4V",
        "outputId": "492859e5-8105-4475-b219-3536d5a84eb4"
      },
      "execution_count": 3,
      "outputs": [
        {
          "output_type": "stream",
          "name": "stdout",
          "text": [
            "[1, 2, 5, 7, 10, 23]\n"
          ]
        }
      ]
    },
    {
      "cell_type": "code",
      "source": [
        "#QUICK SORT\n",
        "def partition(l,low,high):\n",
        "  pivot = l[high]\n",
        "  index = low\n",
        "\n",
        "  for i in range(low,high):\n",
        "    if l[i] <= pivot:\n",
        "      temp = l[index]\n",
        "      l[index] = l[i]\n",
        "      l[i] = temp\n",
        "      index = index + 1\n",
        "\n",
        "  temp = l[high]\n",
        "  l[high] = l[index]\n",
        "  l[index] = temp\n",
        "\n",
        "  return index\n",
        "\n",
        "def qsort(l, low, high):\n",
        "  if low < high:\n",
        "    pivot = partition(l,low,high)\n",
        "\n",
        "    qsort(l,low,pivot-1)\n",
        "    qsort(l,pivot+1,high)\n",
        "\n",
        "\n",
        "def quicksort(l):\n",
        " qsort(l, 0, len(l) -1)\n",
        "\n",
        "l = [1, 10, 23, 2, 7, 5]\n",
        "\n",
        "quicksort(l)\n",
        "print(l)"
      ],
      "metadata": {
        "colab": {
          "base_uri": "https://localhost:8080/"
        },
        "id": "6uSxm9MvT_f_",
        "outputId": "f543068f-b4e2-4fc7-ff0f-7c8a3d36afcc"
      },
      "execution_count": 5,
      "outputs": [
        {
          "output_type": "stream",
          "name": "stdout",
          "text": [
            "[1, 2, 5, 7, 10, 23]\n"
          ]
        }
      ]
    }
  ]
}