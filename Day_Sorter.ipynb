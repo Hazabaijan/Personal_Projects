{
  "nbformat": 4,
  "nbformat_minor": 0,
  "metadata": {
    "colab": {
      "provenance": [],
      "authorship_tag": "ABX9TyMO1AluEV+uqPbj601dUUGU",
      "include_colab_link": true
    },
    "kernelspec": {
      "name": "python3",
      "display_name": "Python 3"
    },
    "language_info": {
      "name": "python"
    }
  },
  "cells": [
    {
      "cell_type": "markdown",
      "metadata": {
        "id": "view-in-github",
        "colab_type": "text"
      },
      "source": [
        "<a href=\"https://colab.research.google.com/github/Hazabaijan/Personal_Projects/blob/main/Day_Sorter.ipynb\" target=\"_parent\"><img src=\"https://colab.research.google.com/assets/colab-badge.svg\" alt=\"Open In Colab\"/></a>"
      ]
    },
    {
      "cell_type": "code",
      "execution_count": null,
      "metadata": {
        "colab": {
          "base_uri": "https://localhost:8080/"
        },
        "id": "JLdmsEl_Rqbl",
        "outputId": "60eec31a-7b6a-43df-a0e4-7c9fc4281e53"
      },
      "outputs": [
        {
          "output_type": "stream",
          "name": "stdout",
          "text": [
            "Mon\n",
            "Tue\n",
            "Wed\n",
            "Thu\n",
            "Fri\n",
            "Sat\n",
            "Sun\n"
          ]
        }
      ],
      "source": [
        "class daynames:\n",
        "    def __init__(self, dataval=None):\n",
        "        self.dataval = dataval\n",
        "        self.nextval = None\n",
        "\n",
        "e1 = daynames('Mon')\n",
        "e2 = daynames('Wed')\n",
        "e3 = daynames('Tue')\n",
        "e4 = daynames('Thu')\n",
        "e5 = daynames('Sat')\n",
        "e6 = daynames('Fri')\n",
        "e7 = daynames('Sun')\n",
        "\n",
        "e1.nextval = e3\n",
        "e3.nextval = e2\n",
        "e2.nextval = e4\n",
        "e4.nextval = e6\n",
        "e6.nextval = e5\n",
        "e5.nextval = e7\n",
        "\n",
        "thisvalue = e1\n",
        "\n",
        "while thisvalue:\n",
        "        print(thisvalue.dataval)\n",
        "        thisvalue = thisvalue.nextval"
      ]
    }
  ]
}